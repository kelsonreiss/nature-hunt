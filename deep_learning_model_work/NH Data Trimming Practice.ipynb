{
 "cells": [
  {
   "cell_type": "code",
   "execution_count": 1,
   "metadata": {},
   "outputs": [],
   "source": [
    "import os\n",
    "import matplotlib.pyplot as plt\n",
    "import pandas as pd\n",
    "import numpy as np\n",
    "import json"
   ]
  },
  {
   "cell_type": "code",
   "execution_count": 2,
   "metadata": {},
   "outputs": [
    {
     "data": {
      "text/plain": [
       "'/Users/kelson/Kaggle'"
      ]
     },
     "execution_count": 2,
     "metadata": {},
     "output_type": "execute_result"
    }
   ],
   "source": [
    "os.getcwd()"
   ]
  },
  {
   "cell_type": "code",
   "execution_count": 3,
   "metadata": {},
   "outputs": [],
   "source": [
    "# Read in unscrambled category data\n",
    "path_to_categories_json = '../Downloads/categories.json'\n",
    "with open(path_to_categories_json) as data_file_categories:\n",
    "    categories = json.load(data_file_categories)\n",
    "    \n",
    "# Read in Kingdom and category ID info\n",
    "categories_df = pd.DataFrame(categories)[['kingdom', 'id']].rename(columns={'id':'category_id'})"
   ]
  },
  {
   "cell_type": "code",
   "execution_count": 4,
   "metadata": {},
   "outputs": [
    {
     "data": {
      "text/html": [
       "<div>\n",
       "<style scoped>\n",
       "    .dataframe tbody tr th:only-of-type {\n",
       "        vertical-align: middle;\n",
       "    }\n",
       "\n",
       "    .dataframe tbody tr th {\n",
       "        vertical-align: top;\n",
       "    }\n",
       "\n",
       "    .dataframe thead th {\n",
       "        text-align: right;\n",
       "    }\n",
       "</style>\n",
       "<table border=\"1\" class=\"dataframe\">\n",
       "  <thead>\n",
       "    <tr style=\"text-align: right;\">\n",
       "      <th></th>\n",
       "      <th>kingdom</th>\n",
       "      <th>category_id</th>\n",
       "    </tr>\n",
       "  </thead>\n",
       "  <tbody>\n",
       "    <tr>\n",
       "      <th>0</th>\n",
       "      <td>Animalia</td>\n",
       "      <td>0</td>\n",
       "    </tr>\n",
       "    <tr>\n",
       "      <th>1</th>\n",
       "      <td>Animalia</td>\n",
       "      <td>1</td>\n",
       "    </tr>\n",
       "    <tr>\n",
       "      <th>2</th>\n",
       "      <td>Animalia</td>\n",
       "      <td>2</td>\n",
       "    </tr>\n",
       "    <tr>\n",
       "      <th>3</th>\n",
       "      <td>Animalia</td>\n",
       "      <td>3</td>\n",
       "    </tr>\n",
       "    <tr>\n",
       "      <th>4</th>\n",
       "      <td>Animalia</td>\n",
       "      <td>4</td>\n",
       "    </tr>\n",
       "  </tbody>\n",
       "</table>\n",
       "</div>"
      ],
      "text/plain": [
       "    kingdom  category_id\n",
       "0  Animalia            0\n",
       "1  Animalia            1\n",
       "2  Animalia            2\n",
       "3  Animalia            3\n",
       "4  Animalia            4"
      ]
     },
     "execution_count": 4,
     "metadata": {},
     "output_type": "execute_result"
    }
   ],
   "source": [
    "categories_df.head()"
   ]
  },
  {
   "cell_type": "code",
   "execution_count": 5,
   "metadata": {},
   "outputs": [],
   "source": [
    "def retrieve_and_trim(path):\n",
    "    # Load Data from JSON\n",
    "    with open(path) as data_file:\n",
    "        anns = json.load(data_file)\n",
    "    # Read in Image + Category Pairs\n",
    "    anns_df = pd.DataFrame(anns['annotations'])[['image_id', 'category_id']]\n",
    "    \n",
    "    # Read in Image + File_Name Pairs\n",
    "    img_df = pd.DataFrame(anns['images'])[['id', 'file_name']].rename(columns={'id':'image_id'})\n",
    "\n",
    "    # Merge \n",
    "    df_file_cat = pd.merge(img_df, anns_df, on='image_id')\n",
    "    \n",
    "    # Add category name to file\n",
    "    df_file_w_kingdom = pd.merge(df_file_cat, categories_df, on='category_id')\n",
    "    \n",
    "    # Retain only the records with the category as Plantae or Fungi\n",
    "    df_file_w_kingdom = df_file_w_kingdom[df_file_w_kingdom['kingdom'].isin(['Plantae', 'Fungi'])]\n",
    "\n",
    "    return df_file_w_kingdom\n",
    "    \n",
    "    \n",
    "    "
   ]
  },
  {
   "cell_type": "code",
   "execution_count": 6,
   "metadata": {},
   "outputs": [
    {
     "data": {
      "text/html": [
       "<div>\n",
       "<style scoped>\n",
       "    .dataframe tbody tr th:only-of-type {\n",
       "        vertical-align: middle;\n",
       "    }\n",
       "\n",
       "    .dataframe tbody tr th {\n",
       "        vertical-align: top;\n",
       "    }\n",
       "\n",
       "    .dataframe thead th {\n",
       "        text-align: right;\n",
       "    }\n",
       "</style>\n",
       "<table border=\"1\" class=\"dataframe\">\n",
       "  <thead>\n",
       "    <tr style=\"text-align: right;\">\n",
       "      <th></th>\n",
       "      <th>image_id</th>\n",
       "      <th>file_name</th>\n",
       "      <th>category_id</th>\n",
       "      <th>kingdom</th>\n",
       "    </tr>\n",
       "  </thead>\n",
       "  <tbody>\n",
       "    <tr>\n",
       "      <th>0</th>\n",
       "      <td>1</td>\n",
       "      <td>train_val2018/Plantae/7477/3b60c9486db1d2ee875...</td>\n",
       "      <td>7477</td>\n",
       "      <td>Plantae</td>\n",
       "    </tr>\n",
       "    <tr>\n",
       "      <th>1</th>\n",
       "      <td>4336</td>\n",
       "      <td>train_val2018/Plantae/7477/3d5d7f1e0eedb1df3aa...</td>\n",
       "      <td>7477</td>\n",
       "      <td>Plantae</td>\n",
       "    </tr>\n",
       "    <tr>\n",
       "      <th>2</th>\n",
       "      <td>4736</td>\n",
       "      <td>train_val2018/Plantae/7477/c0843babf2fe1b24b6c...</td>\n",
       "      <td>7477</td>\n",
       "      <td>Plantae</td>\n",
       "    </tr>\n",
       "    <tr>\n",
       "      <th>3</th>\n",
       "      <td>10022</td>\n",
       "      <td>train_val2018/Plantae/7477/1645a80d3bb42125d3f...</td>\n",
       "      <td>7477</td>\n",
       "      <td>Plantae</td>\n",
       "    </tr>\n",
       "    <tr>\n",
       "      <th>4</th>\n",
       "      <td>10296</td>\n",
       "      <td>train_val2018/Plantae/7477/5b96d95868a7e97b97e...</td>\n",
       "      <td>7477</td>\n",
       "      <td>Plantae</td>\n",
       "    </tr>\n",
       "  </tbody>\n",
       "</table>\n",
       "</div>"
      ],
      "text/plain": [
       "   image_id                                          file_name  category_id  \\\n",
       "0         1  train_val2018/Plantae/7477/3b60c9486db1d2ee875...         7477   \n",
       "1      4336  train_val2018/Plantae/7477/3d5d7f1e0eedb1df3aa...         7477   \n",
       "2      4736  train_val2018/Plantae/7477/c0843babf2fe1b24b6c...         7477   \n",
       "3     10022  train_val2018/Plantae/7477/1645a80d3bb42125d3f...         7477   \n",
       "4     10296  train_val2018/Plantae/7477/5b96d95868a7e97b97e...         7477   \n",
       "\n",
       "   kingdom  \n",
       "0  Plantae  \n",
       "1  Plantae  \n",
       "2  Plantae  \n",
       "3  Plantae  \n",
       "4  Plantae  "
      ]
     },
     "execution_count": 6,
     "metadata": {},
     "output_type": "execute_result"
    }
   ],
   "source": [
    "path_to_train_data = '../Downloads/train2018.json'\n",
    "path_to_val_data = '../Downloads/val2018.json'\n",
    "\n",
    "# Retrieve and parse data\n",
    "train_df = retrieve_and_trim(path_to_train_data)\n",
    "val_df = retrieve_and_trim(path_to_val_data)\n",
    "\n",
    "train_df.head()"
   ]
  },
  {
   "cell_type": "code",
   "execution_count": 8,
   "metadata": {},
   "outputs": [
    {
     "data": {
      "text/plain": [
       "2"
      ]
     },
     "execution_count": 8,
     "metadata": {},
     "output_type": "execute_result"
    }
   ],
   "source": [
    "len(val_df['kingdom'].unique())"
   ]
  },
  {
   "cell_type": "code",
   "execution_count": 9,
   "metadata": {},
   "outputs": [
    {
     "data": {
      "text/plain": [
       "125664"
      ]
     },
     "execution_count": 9,
     "metadata": {},
     "output_type": "execute_result"
    }
   ],
   "source": [
    "# https://www.kaggle.com/hsinwenchang/keras-mobilenet-data-augmentation-visualize\n",
    "len(train_df['image_id'])"
   ]
  },
  {
   "cell_type": "code",
   "execution_count": null,
   "metadata": {},
   "outputs": [],
   "source": []
  }
 ],
 "metadata": {
  "kernelspec": {
   "display_name": "Python 3",
   "language": "python",
   "name": "python3"
  },
  "language_info": {
   "codemirror_mode": {
    "name": "ipython",
    "version": 3
   },
   "file_extension": ".py",
   "mimetype": "text/x-python",
   "name": "python",
   "nbconvert_exporter": "python",
   "pygments_lexer": "ipython3",
   "version": "3.7.1"
  }
 },
 "nbformat": 4,
 "nbformat_minor": 2
}
